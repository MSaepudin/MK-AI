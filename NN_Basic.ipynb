{
 "cells": [
  {
   "cell_type": "code",
   "execution_count": 1,
   "metadata": {},
   "outputs": [],
   "source": [
    "%matplotlib inline\n",
    "from matplotlib import pyplot as plt\n",
    "import pandas as pd\n",
    "import numpy as np"
   ]
  },
  {
   "cell_type": "code",
   "execution_count": 6,
   "metadata": {},
   "outputs": [],
   "source": [
    "# each point is length, width, type (0, 1)\n",
    "\n",
    "data = [\n",
    "        [2,   1,   0],\n",
    "        [4,   1.5, 1],\n",
    "        [3,   1,   0],\n",
    "        [3.5, .5,  1],\n",
    "        [2,   .5,  0],\n",
    "        [5.5,  1,  1],\n",
    "        [1,    1,  0]]\n",
    "\n",
    "mystery_flower = [4.5, 1]"
   ]
  },
  {
   "cell_type": "code",
   "execution_count": 4,
   "metadata": {},
   "outputs": [
    {
     "data": {
      "text/html": [
       "<div>\n",
       "<style scoped>\n",
       "    .dataframe tbody tr th:only-of-type {\n",
       "        vertical-align: middle;\n",
       "    }\n",
       "\n",
       "    .dataframe tbody tr th {\n",
       "        vertical-align: top;\n",
       "    }\n",
       "\n",
       "    .dataframe thead th {\n",
       "        text-align: right;\n",
       "    }\n",
       "</style>\n",
       "<table border=\"1\" class=\"dataframe\">\n",
       "  <thead>\n",
       "    <tr style=\"text-align: right;\">\n",
       "      <th></th>\n",
       "      <th>0</th>\n",
       "      <th>1</th>\n",
       "      <th>2</th>\n",
       "    </tr>\n",
       "  </thead>\n",
       "  <tbody>\n",
       "    <tr>\n",
       "      <th>0</th>\n",
       "      <td>2.0</td>\n",
       "      <td>1.0</td>\n",
       "      <td>0</td>\n",
       "    </tr>\n",
       "    <tr>\n",
       "      <th>1</th>\n",
       "      <td>4.0</td>\n",
       "      <td>1.5</td>\n",
       "      <td>1</td>\n",
       "    </tr>\n",
       "    <tr>\n",
       "      <th>2</th>\n",
       "      <td>3.0</td>\n",
       "      <td>1.0</td>\n",
       "      <td>0</td>\n",
       "    </tr>\n",
       "    <tr>\n",
       "      <th>3</th>\n",
       "      <td>3.5</td>\n",
       "      <td>0.5</td>\n",
       "      <td>1</td>\n",
       "    </tr>\n",
       "    <tr>\n",
       "      <th>4</th>\n",
       "      <td>2.0</td>\n",
       "      <td>0.5</td>\n",
       "      <td>0</td>\n",
       "    </tr>\n",
       "    <tr>\n",
       "      <th>5</th>\n",
       "      <td>5.5</td>\n",
       "      <td>1.0</td>\n",
       "      <td>1</td>\n",
       "    </tr>\n",
       "    <tr>\n",
       "      <th>6</th>\n",
       "      <td>1.0</td>\n",
       "      <td>1.0</td>\n",
       "      <td>0</td>\n",
       "    </tr>\n",
       "  </tbody>\n",
       "</table>\n",
       "</div>"
      ],
      "text/plain": [
       "     0    1  2\n",
       "0  2.0  1.0  0\n",
       "1  4.0  1.5  1\n",
       "2  3.0  1.0  0\n",
       "3  3.5  0.5  1\n",
       "4  2.0  0.5  0\n",
       "5  5.5  1.0  1\n",
       "6  1.0  1.0  0"
      ]
     },
     "execution_count": 4,
     "metadata": {},
     "output_type": "execute_result"
    }
   ],
   "source": [
    "df = pd.DataFrame(data)\n",
    "df"
   ]
  },
  {
   "cell_type": "code",
   "execution_count": 7,
   "metadata": {},
   "outputs": [
    {
     "data": {
      "image/png": "[encoded data removed]",
      "text/plain": [
       "<Figure size 432x288 with 1 Axes>"
      ]
     },
     "metadata": {},
     "output_type": "display_data"
    }
   ],
   "source": [
    "# scatter plot them\n",
    "def vis_data():\n",
    "    plt.grid()\n",
    "    plt.xlabel(\"Length\")\n",
    "    plt.ylabel(\"width\")\n",
    "    plt.title(\"Flower Data Analysis\")\n",
    "    for i in range(len(data)):\n",
    "        c = 'r'\n",
    "        if data[i][2] == 0:\n",
    "            c = 'b'\n",
    "        plt.scatter([data[i][0]], [data[i][1]], c=c)\n",
    "\n",
    "    plt.scatter([mystery_flower[0]], [mystery_flower[1]], c='gray')\n",
    "\n",
    "vis_data()"
   ]
  },
  {
   "cell_type": "code",
   "execution_count": 17,
   "metadata": {},
   "outputs": [],
   "source": [
    "# network\n",
    "\n",
    "#       o  flower type\n",
    "#      / \\  w1, w2, b\n",
    "#     o   o  length, width"
   ]
  },
  {
   "cell_type": "code",
   "execution_count": 46,
   "metadata": {},
   "outputs": [],
   "source": [
    "# activation function\n",
    "\n",
    "def sigmoid(x):\n",
    "    return 1/(1+np.exp(-x))\n",
    "\n",
    "def sigmoid_p(x):\n",
    "    return sigmoid(x) * (1-sigmoid(x))"
   ]
  },
  {
   "cell_type": "code",
   "execution_count": 47,
   "metadata": {},
   "outputs": [
    {
     "data": {
      "image/png": "[encoded data removed]",
      "text/plain": [
       "<Figure size 432x288 with 1 Axes>"
      ]
     },
     "metadata": {},
     "output_type": "display_data"
    }
   ],
   "source": [
    "X = np.linspace(-5, 5, 100)\n",
    "plt.plot(X, sigmoid(X), c=\"b\") # sigmoid in blue\n",
    "fig = plt.plot(X, sigmoid_p(X), c=\"r\") # sigmoid_p in red"
   ]
  },
  {
   "cell_type": "code",
   "execution_count": 48,
   "metadata": {},
   "outputs": [
    {
     "data": {
      "image/png": "[encoded data removed]",
      "text/plain": [
       "<Figure size 432x288 with 1 Axes>"
      ]
     },
     "metadata": {},
     "output_type": "display_data"
    }
   ],
   "source": [
    "# train\n",
    "\n",
    "def train():\n",
    "    #random init of weights\n",
    "    w1 = np.random.randn()\n",
    "    w2 = np.random.randn()\n",
    "    b = np.random.randn()\n",
    "    \n",
    "    iterations = 10000\n",
    "    learning_rate = 0.1\n",
    "    costs = [] # keep costs during training, see if they go down\n",
    "    \n",
    "    for i in range(iterations):\n",
    "        # get a random point\n",
    "        ri = np.random.randint(len(data))\n",
    "        point = data[ri]\n",
    "        \n",
    "        z = point[0] * w1 + point[1] * w2 + b\n",
    "        pred = sigmoid(z) # networks prediction\n",
    "        \n",
    "        target = point[2]\n",
    "        \n",
    "        # cost for current random point\n",
    "        cost = np.square(pred - target)\n",
    "        \n",
    "        # print the cost over all data points every 1k iters\n",
    "        if i % 100 == 0:\n",
    "            c = 0\n",
    "            for j in range(len(data)):\n",
    "                p = data[j]\n",
    "                p_pred = sigmoid(w1 * p[0] + w2 * p[1] + b)\n",
    "                c += np.square(p_pred - p[2])\n",
    "            costs.append(c)\n",
    "        \n",
    "        dcost_dpred = 2 * (pred - target)\n",
    "        dpred_dz = sigmoid_p(z)\n",
    "        \n",
    "        dz_dw1 = point[0]\n",
    "        dz_dw2 = point[1]\n",
    "        dz_db = 1\n",
    "        \n",
    "        dcost_dz = dcost_dpred * dpred_dz\n",
    "        \n",
    "        dcost_dw1 = dcost_dz * dz_dw1\n",
    "        dcost_dw2 = dcost_dz * dz_dw2\n",
    "        dcost_db = dcost_dz * dz_db\n",
    "        \n",
    "        w1 = w1 - learning_rate * dcost_dw1\n",
    "        w2 = w2 - learning_rate * dcost_dw2\n",
    "        b = b - learning_rate * dcost_db\n",
    "        \n",
    "    return costs, w1, w2, b\n",
    "        \n",
    "costs, w1, w2, b = train()\n",
    "\n",
    "fig = plt.plot(costs)"
   ]
  },
  {
   "cell_type": "code",
   "execution_count": 49,
   "metadata": {},
   "outputs": [
    {
     "name": "stdout",
     "output_type": "stream",
     "text": [
      "1.38\n"
     ]
    }
   ],
   "source": [
    "print(round(costs[-1],2))"
   ]
  },
  {
   "cell_type": "code",
   "execution_count": 50,
   "metadata": {},
   "outputs": [
    {
     "name": "stdout",
     "output_type": "stream",
     "text": [
      "0.9164884798636457\n",
      "red\n"
     ]
    }
   ],
   "source": [
    "# predict what the myster flower is!\n",
    "\n",
    "z = w1 * mystery_flower[0] + w2 * mystery_flower[1] + b\n",
    "pred = sigmoid(z)\n",
    "\n",
    "print(pred)\n",
    "if(pred>0.5):\n",
    "    print('red')\n",
    "else:\n",
    "    print('blue')\n",
    "\n",
    "# print(\"close to 0 -> blue, close to 1 -> red\")"
   ]
  },
  {
   "cell_type": "code",
   "execution_count": 51,
   "metadata": {},
   "outputs": [
    {
     "data": {
      "image/png": "[encoded data removed]",
      "text/plain": [
       "<Figure size 432x288 with 1 Axes>"
      ]
     },
     "metadata": {},
     "output_type": "display_data"
    }
   ],
   "source": [
    "# check out the networks predictions in the x,y plane\n",
    "for x in np.linspace(0, 6, 20):\n",
    "    for y in np.linspace(0, 3, 20):\n",
    "        pred = sigmoid(w1 * x + w2 * y + b)\n",
    "        c = 'b'\n",
    "        if pred > .5:\n",
    "            c = 'r'\n",
    "        plt.scatter([x],[y],c=c, alpha=.2)\n",
    "        \n",
    "# plot points over network predictions\n",
    "# you should see a split, with half the predictions blue\n",
    "# and the other half red.. nicely predicting each data point!\n",
    "vis_data()"
   ]
  },
  {
   "cell_type": "code",
   "execution_count": 23,
   "metadata": {},
   "outputs": [
    {
     "data": {
      "text/plain": [
       "-0.9018641271132826"
      ]
     },
     "execution_count": 23,
     "metadata": {},
     "output_type": "execute_result"
    }
   ],
   "source": [
    "b"
   ]
  },
  {
   "cell_type": "code",
   "execution_count": null,
   "metadata": {},
   "outputs": [],
   "source": []
  }
 ],
 "metadata": {
  "kernelspec": {
   "display_name": "Python 3",
   "language": "python",
   "name": "python3"
  },
  "language_info": {
   "codemirror_mode": {
    "name": "ipython",
    "version": 3
   },
   "file_extension": ".py",
   "mimetype": "text/x-python",
   "name": "python",
   "nbconvert_exporter": "python",
   "pygments_lexer": "ipython3",
   "version": "3.6.5"
  }
 },
 "nbformat": 4,
 "nbformat_minor": 2
}
